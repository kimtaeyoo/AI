{
  "nbformat": 4,
  "nbformat_minor": 0,
  "metadata": {
    "colab": {
      "provenance": []
    },
    "kernelspec": {
      "name": "python3",
      "display_name": "Python 3"
    },
    "language_info": {
      "name": "python"
    }
  },
  "cells": [
    {
      "cell_type": "code",
      "execution_count": 194,
      "metadata": {
        "id": "H2JBVokFwjF9",
        "colab": {
          "base_uri": "https://localhost:8080/",
          "height": 448
        },
        "outputId": "e6eb811f-2627-4f4b-c2a8-1cee0fda0068"
      },
      "outputs": [
        {
          "output_type": "execute_result",
          "data": {
            "text/plain": [
              "[<matplotlib.lines.Line2D at 0x7d9f6bf88110>]"
            ]
          },
          "metadata": {},
          "execution_count": 194
        },
        {
          "output_type": "display_data",
          "data": {
            "text/plain": [
              "<Figure size 640x480 with 1 Axes>"
            ],
            "image/png": "[encoded data removed]"
          },
          "metadata": {}
        }
      ],
      "source": [
        "import numpy as np\n",
        "import pandas as pd\n",
        "import matplotlib.pyplot as plt\n",
        "\n",
        "nbastat = pd.read_csv('nbastat2022c.csv')\n",
        "m = len(nbastat)\n",
        "x1 = nbastat[['FG%']]\n",
        "x2 = nbastat[['3P%']]\n",
        "x3 = nbastat[['FT%']]\n",
        "x4 = nbastat[['MIN']]\n",
        "y = nbastat['PTS']\n",
        "\n",
        "x1 = x1.dropna()\n",
        "x2 = x2.dropna()\n",
        "x3 = x3.dropna()\n",
        "x4 = x4.dropna()\n",
        "y = y.dropna()\n",
        "\n",
        "x1 = (np.array(x1)).reshape(m,1)\n",
        "x2 = (np.array(x2)).reshape(m,1)\n",
        "x3 = (np.array(x3)).reshape(m,1)\n",
        "x4 = (np.array(x4)).reshape(m,1)\n",
        "y = (np.array(y)).reshape(m,1)\n",
        "\n",
        "learning_rate = 0.00000001\n",
        "n_iter = 5000\n",
        "r= 100\n",
        "theta = np.zeros((15,1))\n",
        "gradiens = np.zeros((15,1))\n",
        "x0 = np.ones((m,1))\n",
        "xb = np.c_[x0,x1,x2,x3,x4,x1**2,x2**2,x3**2,x4**2,x1*x2,x1*x3,x3*x2,x4*x3,x4*x2,x4*x1]\n",
        "\n",
        "losses = []\n",
        "for i in range(n_iter):\n",
        "    loss = ((1/(2.0*m))*(xb.dot(theta)-y)**2).sum()\n",
        "    losses.append(loss)\n",
        "    gradiens = (1.0/m)*(xb.T.dot(xb.dot(theta)-y))\n",
        "    theta = theta - gradiens * learning_rate\n",
        "\n",
        "plt.plot(losses)"
      ]
    }
  ]
}